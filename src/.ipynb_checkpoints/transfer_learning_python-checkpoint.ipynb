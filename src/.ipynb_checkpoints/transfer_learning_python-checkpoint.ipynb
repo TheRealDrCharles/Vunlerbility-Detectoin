{
 "cells": [
  {
   "cell_type": "code",
   "execution_count": null,
   "id": "d5f0a1cd-8094-415a-b581-9f91e9686bcb",
   "metadata": {},
   "outputs": [],
   "source": [
    "#30 times tests in domain\n",
    "import sys\n",
    "import os\n",
    "sys.path.append('..')\n",
    "from src.includes import *\n",
    "\n",
    "model_name = 'bplstm'\n",
    "data_set_name = 'LibPNG'\n",
    "home_path = '/home/swj/VD/'\n",
    "ways = 'myway'\n",
    "classifier = 'RF'\n",
    "code_type = 'python'\n",
    "mode = \"command_injection\"\n",
    "\n",
    "#change this floder\n",
    "path = home_path + 'Representation/' + model_name + '_' + ways + '/' + code_type + '/' + mode + '/'\n",
    "save_path = home_path + 'src/' + model_name + '_' + ways + '/' + code_type + '/' + mode + '/'\n",
    "\n",
    "X, y = LoadPickleData(path + 'X_test.pkl'), LoadPickleData(path + 'y_test.pkl')\n",
    "\n",
    "res = list()\n",
    "for i in range(30):\n",
    "    clf = None\n",
    "    if classifier == 'SVM':\n",
    "        clf = SVC()\n",
    "    elif classifier == 'MLP':\n",
    "        clf = MLPClassifier(hidden_layer_sizes=200, random_state=None, max_iter=300)\n",
    "    elif classifier == 'RF':\n",
    "        clf = RandomForestClassifier(bootstrap=True, class_weight='balanced', #class_weight={0:1, 1:4},\n",
    "                    criterion='entropy', max_depth=40, max_features='auto',\n",
    "                    max_leaf_nodes=None, min_impurity_decrease=0.0,\n",
    "                    min_impurity_split=None, min_samples_leaf=3,\n",
    "                    min_samples_split=4, min_weight_fraction_leaf=0.0,\n",
    "                    n_estimators=8000, oob_score=False, random_state=None,\n",
    "                    verbose=0, warm_start=False, n_jobs=-1)\n",
    "        \n",
    "    X_train, X_test, y_train, y_test = train_test_split(X, y, test_size=0.3)\n",
    "    clf = clf.fit(X_train, y_train)\n",
    "    y_predict = clf.predict(X_test)\n",
    "    target_names = [\"Non-defective\",\"Defective\"] #non-buggy->0, buggy->1\n",
    "    ans = classification_report(y_test, y_predict, target_names=target_names, output_dict=True)\n",
    "    print('#' + str(i) + ':', ans['Defective']['precision'], ans['Defective']['recall'], ans['Defective']['f1-score'], ans['accuracy'])\n",
    "    res.append(['#' + str(i) + ':', ans['Defective']['precision'], ans['Defective']['recall'], ans['Defective']['f1-score'], ans['accuracy']])\n",
    "res = np.array(res)\n",
    "res = res[:, 1:6]\n",
    "df = pd.DataFrame(res, columns=['precision', 'recall', 'f1-score', 'accuracy'])\n",
    "\n",
    "if not os.path.exists(save_path): os.makedirs(save_path)\n",
    "#change this also according above\n",
    "df.to_csv(save_path + 'res.csv')\n"
   ]
  },
  {
   "cell_type": "code",
   "execution_count": null,
   "id": "8f581136-8d3f-494c-bc51-21e65d22d1a8",
   "metadata": {},
   "outputs": [],
   "source": [
    "df.to_csv(save_path + 'res.csv')"
   ]
  },
  {
   "cell_type": "code",
   "execution_count": null,
   "id": "33e5f0e9-260c-49fc-9853-1d9efddaefe7",
   "metadata": {},
   "outputs": [],
   "source": []
  }
 ],
 "metadata": {
  "kernelspec": {
   "display_name": "Python 3",
   "language": "python",
   "name": "python3"
  },
  "language_info": {
   "codemirror_mode": {
    "name": "ipython",
    "version": 3
   },
   "file_extension": ".py",
   "mimetype": "text/x-python",
   "name": "python",
   "nbconvert_exporter": "python",
   "pygments_lexer": "ipython3",
   "version": "3.8.10"
  }
 },
 "nbformat": 4,
 "nbformat_minor": 5
}
