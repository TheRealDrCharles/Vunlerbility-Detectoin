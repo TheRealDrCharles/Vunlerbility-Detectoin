{
 "cells": [
  {
   "cell_type": "code",
   "execution_count": 2,
   "id": "92865699-8c56-4c1e-be6b-dc5cbc8f299c",
   "metadata": {},
   "outputs": [
    {
     "name": "stdout",
     "output_type": "stream",
     "text": [
      "/home/swj/VD/config\n"
     ]
    }
   ],
   "source": [
    "# -*- coding: utf-8 -*-\n",
    "\"\"\"\n",
    "Created on Mon Sep 11 15:38:30 2017\n",
    "This file achieves two functionalities:\n",
    "    1) Grab all the .c files from a specified directory\n",
    "    2) Process all the .c files with CodeSensor and output them to a specified directory.\n",
    "\"\"\"\n",
    "\n",
    "import os\n",
    "import shutil\n",
    "from subprocess import Popen, PIPE, STDOUT\n",
    "\n",
    "\"\"\"\n",
    "Path\n",
    "\"\"\"\n",
    "print (os.getcwd())\n",
    "Project_Name = \"/Asterisk\"\n",
    "\n",
    "Vulnerble = '/Vulnerable_functions'\n",
    "\n",
    "Non_Vulnerble = '/Non_vulnerable_functions'\n",
    "\n",
    "Working_directory = \"/Users/charleswayne/Downloads/preprocessing_data\"\n",
    "\n",
    "CodeSensor_OUTPUT_PATH = Working_directory + Project_Name + Vulnerble + '/ASTs/'\n",
    "\n",
    "CodeSensor_PATH = \"/Users/charleswayne/Downloads/codesensor-master/build/CodeSensor.jar\"\n",
    "\n",
    "PATH = Working_directory + Project_Name + Vulnerble\n",
    "\n",
    "Full_path = \"\"\n",
    "\n",
    "for fpathe,dirs,fs in os.walk(PATH):\n",
    "    for f in fs:\n",
    "        if os.path.splitext(f)[1]=='.c': # Get the .c files only\n",
    "            file_path = os.path.join(fpathe,f) # f is the .c file, which will be processed by CodeSensor\n",
    "            # With each .c file open, CodeSensor will process the opened file and output all the processed files to a specified directory.\n",
    "            Full_path = CodeSensor_OUTPUT_PATH + f + \".txt\"\n",
    "        \n",
    "            with open(Full_path, \"w+\") as output_file:\n",
    "                Popen(['java', '-jar', CodeSensor_PATH, file_path], stdout=output_file, stderr=STDOUT)        \n",
    "                output_file.close()"
   ]
  },
  {
   "cell_type": "code",
   "execution_count": null,
   "id": "fecf5474-57a6-49f8-8cc2-600774638b6a",
   "metadata": {},
   "outputs": [],
   "source": []
  }
 ],
 "metadata": {
  "kernelspec": {
   "display_name": "Python 3",
   "language": "python",
   "name": "python3"
  },
  "language_info": {
   "codemirror_mode": {
    "name": "ipython",
    "version": 3
   },
   "file_extension": ".py",
   "mimetype": "text/x-python",
   "name": "python",
   "nbconvert_exporter": "python",
   "pygments_lexer": "ipython3",
   "version": "3.8.10"
  }
 },
 "nbformat": 4,
 "nbformat_minor": 5
}
